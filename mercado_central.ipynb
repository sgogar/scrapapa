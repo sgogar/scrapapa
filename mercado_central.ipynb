{
 "cells": [
  {
   "cell_type": "code",
   "execution_count": 189,
   "metadata": {},
   "outputs": [],
   "source": [
    "import pandas as pd\n",
    "import os"
   ]
  },
  {
   "cell_type": "code",
   "execution_count": 190,
   "metadata": {},
   "outputs": [
    {
     "data": {
      "text/html": [
       "<div>\n",
       "<style scoped>\n",
       "    .dataframe tbody tr th:only-of-type {\n",
       "        vertical-align: middle;\n",
       "    }\n",
       "\n",
       "    .dataframe tbody tr th {\n",
       "        vertical-align: top;\n",
       "    }\n",
       "\n",
       "    .dataframe thead th {\n",
       "        text-align: right;\n",
       "    }\n",
       "</style>\n",
       "<table border=\"1\" class=\"dataframe\">\n",
       "  <thead>\n",
       "    <tr style=\"text-align: right;\">\n",
       "      <th></th>\n",
       "      <th>ESP</th>\n",
       "      <th>VAR</th>\n",
       "      <th>PROC</th>\n",
       "      <th>ENV</th>\n",
       "      <th>KG</th>\n",
       "      <th>CAL</th>\n",
       "      <th>TAM</th>\n",
       "      <th>GRADO</th>\n",
       "      <th>MA010222</th>\n",
       "      <th>MO010222</th>\n",
       "      <th>MI010222</th>\n",
       "      <th>MAPK</th>\n",
       "      <th>MOPK</th>\n",
       "      <th>MIPK</th>\n",
       "    </tr>\n",
       "  </thead>\n",
       "  <tbody>\n",
       "    <tr>\n",
       "      <th>0</th>\n",
       "      <td>ACELGA</td>\n",
       "      <td>NaN</td>\n",
       "      <td>BS. AS.</td>\n",
       "      <td>JA</td>\n",
       "      <td>10</td>\n",
       "      <td>1A</td>\n",
       "      <td>NaN</td>\n",
       "      <td>INV</td>\n",
       "      <td>950</td>\n",
       "      <td>820.00</td>\n",
       "      <td>750</td>\n",
       "      <td>95.0</td>\n",
       "      <td>82.00</td>\n",
       "      <td>75.0</td>\n",
       "    </tr>\n",
       "    <tr>\n",
       "      <th>1</th>\n",
       "      <td>ACELGA</td>\n",
       "      <td>NaN</td>\n",
       "      <td>BS. AS.</td>\n",
       "      <td>JA</td>\n",
       "      <td>10</td>\n",
       "      <td>1A</td>\n",
       "      <td>SIN TAM</td>\n",
       "      <td>NaN</td>\n",
       "      <td>750</td>\n",
       "      <td>685.00</td>\n",
       "      <td>600</td>\n",
       "      <td>75.0</td>\n",
       "      <td>68.50</td>\n",
       "      <td>60.0</td>\n",
       "    </tr>\n",
       "    <tr>\n",
       "      <th>2</th>\n",
       "      <td>ACELGA</td>\n",
       "      <td>NaN</td>\n",
       "      <td>BS. AS.</td>\n",
       "      <td>JA</td>\n",
       "      <td>10</td>\n",
       "      <td>2A</td>\n",
       "      <td>SIN TAM</td>\n",
       "      <td>NaN</td>\n",
       "      <td>700</td>\n",
       "      <td>620.00</td>\n",
       "      <td>580</td>\n",
       "      <td>70.0</td>\n",
       "      <td>62.00</td>\n",
       "      <td>58.0</td>\n",
       "    </tr>\n",
       "    <tr>\n",
       "      <th>3</th>\n",
       "      <td>ACELGA</td>\n",
       "      <td>Prom.Esp.</td>\n",
       "      <td>NaN</td>\n",
       "      <td>NaN</td>\n",
       "      <td>0</td>\n",
       "      <td>NaN</td>\n",
       "      <td>NaN</td>\n",
       "      <td>NaN</td>\n",
       "      <td>0</td>\n",
       "      <td>708.33</td>\n",
       "      <td>0</td>\n",
       "      <td>0.0</td>\n",
       "      <td>70.83</td>\n",
       "      <td>0.0</td>\n",
       "    </tr>\n",
       "    <tr>\n",
       "      <th>4</th>\n",
       "      <td>ACUSAY</td>\n",
       "      <td>NaN</td>\n",
       "      <td>BS. AS.</td>\n",
       "      <td>JA</td>\n",
       "      <td>10</td>\n",
       "      <td>1A</td>\n",
       "      <td>GRANDE</td>\n",
       "      <td>NaN</td>\n",
       "      <td>600</td>\n",
       "      <td>512.00</td>\n",
       "      <td>480</td>\n",
       "      <td>60.0</td>\n",
       "      <td>51.20</td>\n",
       "      <td>48.0</td>\n",
       "    </tr>\n",
       "  </tbody>\n",
       "</table>\n",
       "</div>"
      ],
      "text/plain": [
       "      ESP        VAR     PROC  ENV  KG  CAL      TAM GRADO  MA010222  \\\n",
       "0  ACELGA        NaN  BS. AS.   JA  10   1A      NaN   INV       950   \n",
       "1  ACELGA        NaN  BS. AS.   JA  10   1A  SIN TAM   NaN       750   \n",
       "2  ACELGA        NaN  BS. AS.   JA  10   2A  SIN TAM   NaN       700   \n",
       "3  ACELGA  Prom.Esp.      NaN  NaN   0  NaN      NaN   NaN         0   \n",
       "4  ACUSAY        NaN  BS. AS.   JA  10   1A   GRANDE   NaN       600   \n",
       "\n",
       "   MO010222  MI010222  MAPK   MOPK  MIPK  \n",
       "0    820.00       750  95.0  82.00  75.0  \n",
       "1    685.00       600  75.0  68.50  60.0  \n",
       "2    620.00       580  70.0  62.00  58.0  \n",
       "3    708.33         0   0.0  70.83   0.0  \n",
       "4    512.00       480  60.0  51.20  48.0  "
      ]
     },
     "execution_count": 190,
     "metadata": {},
     "output_type": "execute_result"
    }
   ],
   "source": [
    "df_papas = pd.read_csv(\"potato_story/RH010222.csv\")\n",
    "df_papas.head()"
   ]
  },
  {
   "cell_type": "code",
   "execution_count": 191,
   "metadata": {},
   "outputs": [],
   "source": [
    "month_dic = {\n",
    "    1: 'Enero',\n",
    "    2: 'Febrero',\n",
    "    3: 'Marzo',\n",
    "    4: 'Abril',\n",
    "    5: 'Mayo',\n",
    "    6: 'Junio',\n",
    "    7: 'Julio',\n",
    "    8: 'Agosto',\n",
    "    9: 'Septiembre',\n",
    "    10: 'Octubre',\n",
    "    11: 'Noviembre',\n",
    "    12: 'Diciembre'\n",
    "}"
   ]
  },
  {
   "cell_type": "code",
   "execution_count": 192,
   "metadata": {},
   "outputs": [
    {
     "name": "stderr",
     "output_type": "stream",
     "text": [
      "/tmp/ipykernel_21481/1556349311.py:18: SettingWithCopyWarning: \n",
      "A value is trying to be set on a copy of a slice from a DataFrame.\n",
      "Try using .loc[row_indexer,col_indexer] = value instead\n",
      "\n",
      "See the caveats in the documentation: https://pandas.pydata.org/pandas-docs/stable/user_guide/indexing.html#returning-a-view-versus-a-copy\n",
      "  df_papa_parsed[\"PERIODO\"] = date_time_obj\n",
      "/tmp/ipykernel_21481/1556349311.py:21: SettingWithCopyWarning: \n",
      "A value is trying to be set on a copy of a slice from a DataFrame.\n",
      "Try using .loc[row_indexer,col_indexer] = value instead\n",
      "\n",
      "See the caveats in the documentation: https://pandas.pydata.org/pandas-docs/stable/user_guide/indexing.html#returning-a-view-versus-a-copy\n",
      "  df_batata_parsed[\"PERIODO\"] = date_time_obj\n",
      "/tmp/ipykernel_21481/1556349311.py:18: SettingWithCopyWarning: \n",
      "A value is trying to be set on a copy of a slice from a DataFrame.\n",
      "Try using .loc[row_indexer,col_indexer] = value instead\n",
      "\n",
      "See the caveats in the documentation: https://pandas.pydata.org/pandas-docs/stable/user_guide/indexing.html#returning-a-view-versus-a-copy\n",
      "  df_papa_parsed[\"PERIODO\"] = date_time_obj\n",
      "/tmp/ipykernel_21481/1556349311.py:21: SettingWithCopyWarning: \n",
      "A value is trying to be set on a copy of a slice from a DataFrame.\n",
      "Try using .loc[row_indexer,col_indexer] = value instead\n",
      "\n",
      "See the caveats in the documentation: https://pandas.pydata.org/pandas-docs/stable/user_guide/indexing.html#returning-a-view-versus-a-copy\n",
      "  df_batata_parsed[\"PERIODO\"] = date_time_obj\n",
      "/tmp/ipykernel_21481/1556349311.py:18: SettingWithCopyWarning: \n",
      "A value is trying to be set on a copy of a slice from a DataFrame.\n",
      "Try using .loc[row_indexer,col_indexer] = value instead\n",
      "\n",
      "See the caveats in the documentation: https://pandas.pydata.org/pandas-docs/stable/user_guide/indexing.html#returning-a-view-versus-a-copy\n",
      "  df_papa_parsed[\"PERIODO\"] = date_time_obj\n",
      "/tmp/ipykernel_21481/1556349311.py:21: SettingWithCopyWarning: \n",
      "A value is trying to be set on a copy of a slice from a DataFrame.\n",
      "Try using .loc[row_indexer,col_indexer] = value instead\n",
      "\n",
      "See the caveats in the documentation: https://pandas.pydata.org/pandas-docs/stable/user_guide/indexing.html#returning-a-view-versus-a-copy\n",
      "  df_batata_parsed[\"PERIODO\"] = date_time_obj\n",
      "/tmp/ipykernel_21481/1556349311.py:18: SettingWithCopyWarning: \n",
      "A value is trying to be set on a copy of a slice from a DataFrame.\n",
      "Try using .loc[row_indexer,col_indexer] = value instead\n",
      "\n",
      "See the caveats in the documentation: https://pandas.pydata.org/pandas-docs/stable/user_guide/indexing.html#returning-a-view-versus-a-copy\n",
      "  df_papa_parsed[\"PERIODO\"] = date_time_obj\n",
      "/tmp/ipykernel_21481/1556349311.py:21: SettingWithCopyWarning: \n",
      "A value is trying to be set on a copy of a slice from a DataFrame.\n",
      "Try using .loc[row_indexer,col_indexer] = value instead\n",
      "\n",
      "See the caveats in the documentation: https://pandas.pydata.org/pandas-docs/stable/user_guide/indexing.html#returning-a-view-versus-a-copy\n",
      "  df_batata_parsed[\"PERIODO\"] = date_time_obj\n",
      "/tmp/ipykernel_21481/1556349311.py:18: SettingWithCopyWarning: \n",
      "A value is trying to be set on a copy of a slice from a DataFrame.\n",
      "Try using .loc[row_indexer,col_indexer] = value instead\n",
      "\n",
      "See the caveats in the documentation: https://pandas.pydata.org/pandas-docs/stable/user_guide/indexing.html#returning-a-view-versus-a-copy\n",
      "  df_papa_parsed[\"PERIODO\"] = date_time_obj\n",
      "/tmp/ipykernel_21481/1556349311.py:21: SettingWithCopyWarning: \n",
      "A value is trying to be set on a copy of a slice from a DataFrame.\n",
      "Try using .loc[row_indexer,col_indexer] = value instead\n",
      "\n",
      "See the caveats in the documentation: https://pandas.pydata.org/pandas-docs/stable/user_guide/indexing.html#returning-a-view-versus-a-copy\n",
      "  df_batata_parsed[\"PERIODO\"] = date_time_obj\n",
      "/tmp/ipykernel_21481/1556349311.py:18: SettingWithCopyWarning: \n",
      "A value is trying to be set on a copy of a slice from a DataFrame.\n",
      "Try using .loc[row_indexer,col_indexer] = value instead\n",
      "\n",
      "See the caveats in the documentation: https://pandas.pydata.org/pandas-docs/stable/user_guide/indexing.html#returning-a-view-versus-a-copy\n",
      "  df_papa_parsed[\"PERIODO\"] = date_time_obj\n",
      "/tmp/ipykernel_21481/1556349311.py:21: SettingWithCopyWarning: \n",
      "A value is trying to be set on a copy of a slice from a DataFrame.\n",
      "Try using .loc[row_indexer,col_indexer] = value instead\n",
      "\n",
      "See the caveats in the documentation: https://pandas.pydata.org/pandas-docs/stable/user_guide/indexing.html#returning-a-view-versus-a-copy\n",
      "  df_batata_parsed[\"PERIODO\"] = date_time_obj\n",
      "/tmp/ipykernel_21481/1556349311.py:18: SettingWithCopyWarning: \n",
      "A value is trying to be set on a copy of a slice from a DataFrame.\n",
      "Try using .loc[row_indexer,col_indexer] = value instead\n",
      "\n",
      "See the caveats in the documentation: https://pandas.pydata.org/pandas-docs/stable/user_guide/indexing.html#returning-a-view-versus-a-copy\n",
      "  df_papa_parsed[\"PERIODO\"] = date_time_obj\n",
      "/tmp/ipykernel_21481/1556349311.py:21: SettingWithCopyWarning: \n",
      "A value is trying to be set on a copy of a slice from a DataFrame.\n",
      "Try using .loc[row_indexer,col_indexer] = value instead\n",
      "\n",
      "See the caveats in the documentation: https://pandas.pydata.org/pandas-docs/stable/user_guide/indexing.html#returning-a-view-versus-a-copy\n",
      "  df_batata_parsed[\"PERIODO\"] = date_time_obj\n",
      "/tmp/ipykernel_21481/1556349311.py:18: SettingWithCopyWarning: \n",
      "A value is trying to be set on a copy of a slice from a DataFrame.\n",
      "Try using .loc[row_indexer,col_indexer] = value instead\n",
      "\n",
      "See the caveats in the documentation: https://pandas.pydata.org/pandas-docs/stable/user_guide/indexing.html#returning-a-view-versus-a-copy\n",
      "  df_papa_parsed[\"PERIODO\"] = date_time_obj\n",
      "/tmp/ipykernel_21481/1556349311.py:21: SettingWithCopyWarning: \n",
      "A value is trying to be set on a copy of a slice from a DataFrame.\n",
      "Try using .loc[row_indexer,col_indexer] = value instead\n",
      "\n",
      "See the caveats in the documentation: https://pandas.pydata.org/pandas-docs/stable/user_guide/indexing.html#returning-a-view-versus-a-copy\n",
      "  df_batata_parsed[\"PERIODO\"] = date_time_obj\n",
      "/tmp/ipykernel_21481/1556349311.py:18: SettingWithCopyWarning: \n",
      "A value is trying to be set on a copy of a slice from a DataFrame.\n",
      "Try using .loc[row_indexer,col_indexer] = value instead\n",
      "\n",
      "See the caveats in the documentation: https://pandas.pydata.org/pandas-docs/stable/user_guide/indexing.html#returning-a-view-versus-a-copy\n",
      "  df_papa_parsed[\"PERIODO\"] = date_time_obj\n",
      "/tmp/ipykernel_21481/1556349311.py:21: SettingWithCopyWarning: \n",
      "A value is trying to be set on a copy of a slice from a DataFrame.\n",
      "Try using .loc[row_indexer,col_indexer] = value instead\n",
      "\n",
      "See the caveats in the documentation: https://pandas.pydata.org/pandas-docs/stable/user_guide/indexing.html#returning-a-view-versus-a-copy\n",
      "  df_batata_parsed[\"PERIODO\"] = date_time_obj\n",
      "/tmp/ipykernel_21481/1556349311.py:18: SettingWithCopyWarning: \n",
      "A value is trying to be set on a copy of a slice from a DataFrame.\n",
      "Try using .loc[row_indexer,col_indexer] = value instead\n",
      "\n",
      "See the caveats in the documentation: https://pandas.pydata.org/pandas-docs/stable/user_guide/indexing.html#returning-a-view-versus-a-copy\n",
      "  df_papa_parsed[\"PERIODO\"] = date_time_obj\n",
      "/tmp/ipykernel_21481/1556349311.py:21: SettingWithCopyWarning: \n",
      "A value is trying to be set on a copy of a slice from a DataFrame.\n",
      "Try using .loc[row_indexer,col_indexer] = value instead\n",
      "\n",
      "See the caveats in the documentation: https://pandas.pydata.org/pandas-docs/stable/user_guide/indexing.html#returning-a-view-versus-a-copy\n",
      "  df_batata_parsed[\"PERIODO\"] = date_time_obj\n",
      "/tmp/ipykernel_21481/1556349311.py:18: SettingWithCopyWarning: \n",
      "A value is trying to be set on a copy of a slice from a DataFrame.\n",
      "Try using .loc[row_indexer,col_indexer] = value instead\n",
      "\n",
      "See the caveats in the documentation: https://pandas.pydata.org/pandas-docs/stable/user_guide/indexing.html#returning-a-view-versus-a-copy\n",
      "  df_papa_parsed[\"PERIODO\"] = date_time_obj\n",
      "/tmp/ipykernel_21481/1556349311.py:21: SettingWithCopyWarning: \n",
      "A value is trying to be set on a copy of a slice from a DataFrame.\n",
      "Try using .loc[row_indexer,col_indexer] = value instead\n",
      "\n",
      "See the caveats in the documentation: https://pandas.pydata.org/pandas-docs/stable/user_guide/indexing.html#returning-a-view-versus-a-copy\n",
      "  df_batata_parsed[\"PERIODO\"] = date_time_obj\n"
     ]
    },
    {
     "data": {
      "text/html": [
       "<div>\n",
       "<style scoped>\n",
       "    .dataframe tbody tr th:only-of-type {\n",
       "        vertical-align: middle;\n",
       "    }\n",
       "\n",
       "    .dataframe tbody tr th {\n",
       "        vertical-align: top;\n",
       "    }\n",
       "\n",
       "    .dataframe thead th {\n",
       "        text-align: right;\n",
       "    }\n",
       "</style>\n",
       "<table border=\"1\" class=\"dataframe\">\n",
       "  <thead>\n",
       "    <tr style=\"text-align: right;\">\n",
       "      <th></th>\n",
       "      <th>ESP</th>\n",
       "      <th>MOPK</th>\n",
       "      <th>PROC</th>\n",
       "      <th>PERIODO</th>\n",
       "    </tr>\n",
       "  </thead>\n",
       "  <tbody>\n",
       "    <tr>\n",
       "      <th>80</th>\n",
       "      <td>PAPA</td>\n",
       "      <td>19.15</td>\n",
       "      <td>GRL.BELG</td>\n",
       "      <td>2022-03-01</td>\n",
       "    </tr>\n",
       "    <tr>\n",
       "      <th>81</th>\n",
       "      <td>PAPA</td>\n",
       "      <td>22.20</td>\n",
       "      <td>SE BS.AS</td>\n",
       "      <td>2022-03-01</td>\n",
       "    </tr>\n",
       "    <tr>\n",
       "      <th>82</th>\n",
       "      <td>PAPA</td>\n",
       "      <td>25.50</td>\n",
       "      <td>SE BS.AS</td>\n",
       "      <td>2022-03-01</td>\n",
       "    </tr>\n",
       "    <tr>\n",
       "      <th>83</th>\n",
       "      <td>PAPA</td>\n",
       "      <td>34.50</td>\n",
       "      <td>SE BS.AS</td>\n",
       "      <td>2022-03-01</td>\n",
       "    </tr>\n",
       "    <tr>\n",
       "      <th>84</th>\n",
       "      <td>PAPA</td>\n",
       "      <td>25.34</td>\n",
       "      <td>NaN</td>\n",
       "      <td>2022-03-01</td>\n",
       "    </tr>\n",
       "    <tr>\n",
       "      <th>...</th>\n",
       "      <td>...</td>\n",
       "      <td>...</td>\n",
       "      <td>...</td>\n",
       "      <td>...</td>\n",
       "    </tr>\n",
       "    <tr>\n",
       "      <th>105</th>\n",
       "      <td>PAPA</td>\n",
       "      <td>56.63</td>\n",
       "      <td>NaN</td>\n",
       "      <td>2022-08-01</td>\n",
       "    </tr>\n",
       "    <tr>\n",
       "      <th>24</th>\n",
       "      <td>BATATA</td>\n",
       "      <td>107.50</td>\n",
       "      <td>BRASIL</td>\n",
       "      <td>2022-08-01</td>\n",
       "    </tr>\n",
       "    <tr>\n",
       "      <th>25</th>\n",
       "      <td>BATATA</td>\n",
       "      <td>98.00</td>\n",
       "      <td>CORDOBA</td>\n",
       "      <td>2022-08-01</td>\n",
       "    </tr>\n",
       "    <tr>\n",
       "      <th>26</th>\n",
       "      <td>BATATA</td>\n",
       "      <td>100.00</td>\n",
       "      <td>SANTA FE</td>\n",
       "      <td>2022-08-01</td>\n",
       "    </tr>\n",
       "    <tr>\n",
       "      <th>27</th>\n",
       "      <td>BATATA</td>\n",
       "      <td>101.83</td>\n",
       "      <td>NaN</td>\n",
       "      <td>2022-08-01</td>\n",
       "    </tr>\n",
       "  </tbody>\n",
       "</table>\n",
       "<p>100 rows × 4 columns</p>\n",
       "</div>"
      ],
      "text/plain": [
       "        ESP    MOPK      PROC    PERIODO\n",
       "80     PAPA   19.15  GRL.BELG 2022-03-01\n",
       "81     PAPA   22.20  SE BS.AS 2022-03-01\n",
       "82     PAPA   25.50  SE BS.AS 2022-03-01\n",
       "83     PAPA   34.50  SE BS.AS 2022-03-01\n",
       "84     PAPA   25.34       NaN 2022-03-01\n",
       "..      ...     ...       ...        ...\n",
       "105    PAPA   56.63       NaN 2022-08-01\n",
       "24   BATATA  107.50    BRASIL 2022-08-01\n",
       "25   BATATA   98.00   CORDOBA 2022-08-01\n",
       "26   BATATA  100.00  SANTA FE 2022-08-01\n",
       "27   BATATA  101.83       NaN 2022-08-01\n",
       "\n",
       "[100 rows x 4 columns]"
      ]
     },
     "execution_count": 192,
     "metadata": {},
     "output_type": "execute_result"
    }
   ],
   "source": [
    "df_productos = pd.DataFrame()\n",
    "\n",
    "for dir in os.listdir(\"potato_story\"):\n",
    "    dir_csv = \"potato_story/\" + dir\n",
    "    df_hortalizas_mes = pd.read_csv(dir_csv)\n",
    "\n",
    "    df_papa_mes = df_hortalizas_mes[df_hortalizas_mes[\"ESP\"] == \"PAPA\"]\n",
    "    df_batata_mes = df_hortalizas_mes[df_hortalizas_mes[\"ESP\"] == \"BATATA\"]\n",
    "\n",
    "    day = dir[2:4]\n",
    "    month = dir[4:6]\n",
    "    year = dir[6:8]\n",
    "\n",
    "    date_time_str = f'20{year}-{month}-{day} 00:00:00'\n",
    "    date_time_obj = datetime.datetime.strptime(date_time_str, '%Y-%m-%d %H:%M:%S')\n",
    "\n",
    "    df_papa_parsed = df_papa_mes[[\"ESP\", \"MOPK\", \"PROC\"]]\n",
    "    df_papa_parsed[\"PERIODO\"] = date_time_obj\n",
    "\n",
    "    df_batata_parsed = df_batata_mes[[\"ESP\", \"MOPK\", \"PROC\"]]\n",
    "    df_batata_parsed[\"PERIODO\"] = date_time_obj\n",
    "\n",
    "    df_productos = pd.concat([df_productos, df_papa_parsed, df_batata_parsed])\n",
    "\n",
    "df_productos"
   ]
  },
  {
   "cell_type": "code",
   "execution_count": 193,
   "metadata": {},
   "outputs": [
    {
     "data": {
      "text/plain": [
       "ESP        0.00\n",
       "MOPK       0.00\n",
       "PROC       0.22\n",
       "PERIODO    0.00\n",
       "dtype: float64"
      ]
     },
     "execution_count": 193,
     "metadata": {},
     "output_type": "execute_result"
    }
   ],
   "source": [
    "df_productos.isnull().mean()"
   ]
  },
  {
   "cell_type": "code",
   "execution_count": 209,
   "metadata": {},
   "outputs": [
    {
     "name": "stdout",
     "output_type": "stream",
     "text": [
      "<class 'pandas.core.frame.DataFrame'>\n",
      "Int64Index: 100 entries, 80 to 27\n",
      "Data columns (total 4 columns):\n",
      " #   Column     Non-Null Count  Dtype         \n",
      "---  ------     --------------  -----         \n",
      " 0   nombre     100 non-null    object        \n",
      " 1   precio     100 non-null    float64       \n",
      " 2   provincia  100 non-null    object        \n",
      " 3   periodo    100 non-null    datetime64[ns]\n",
      "dtypes: datetime64[ns](1), float64(1), object(2)\n",
      "memory usage: 3.9+ KB\n"
     ]
    }
   ],
   "source": [
    "df_productos.info()"
   ]
  },
  {
   "cell_type": "code",
   "execution_count": 194,
   "metadata": {},
   "outputs": [],
   "source": [
    "columns_rename = {\n",
    "    \"ESP\": \"nombre\",\n",
    "    \"MOPK\": \"precio\",\n",
    "    \"PROC\": \"provincia\",\n",
    "    \"PERIODO\": \"periodo\"\n",
    "}"
   ]
  },
  {
   "cell_type": "code",
   "execution_count": 195,
   "metadata": {},
   "outputs": [
    {
     "data": {
      "text/html": [
       "<div>\n",
       "<style scoped>\n",
       "    .dataframe tbody tr th:only-of-type {\n",
       "        vertical-align: middle;\n",
       "    }\n",
       "\n",
       "    .dataframe tbody tr th {\n",
       "        vertical-align: top;\n",
       "    }\n",
       "\n",
       "    .dataframe thead th {\n",
       "        text-align: right;\n",
       "    }\n",
       "</style>\n",
       "<table border=\"1\" class=\"dataframe\">\n",
       "  <thead>\n",
       "    <tr style=\"text-align: right;\">\n",
       "      <th></th>\n",
       "      <th>nombre</th>\n",
       "      <th>precio</th>\n",
       "      <th>provincia</th>\n",
       "      <th>periodo</th>\n",
       "    </tr>\n",
       "  </thead>\n",
       "  <tbody>\n",
       "    <tr>\n",
       "      <th>80</th>\n",
       "      <td>PAPA</td>\n",
       "      <td>19.15</td>\n",
       "      <td>GRL.BELG</td>\n",
       "      <td>2022-03-01</td>\n",
       "    </tr>\n",
       "    <tr>\n",
       "      <th>81</th>\n",
       "      <td>PAPA</td>\n",
       "      <td>22.20</td>\n",
       "      <td>SE BS.AS</td>\n",
       "      <td>2022-03-01</td>\n",
       "    </tr>\n",
       "    <tr>\n",
       "      <th>82</th>\n",
       "      <td>PAPA</td>\n",
       "      <td>25.50</td>\n",
       "      <td>SE BS.AS</td>\n",
       "      <td>2022-03-01</td>\n",
       "    </tr>\n",
       "    <tr>\n",
       "      <th>83</th>\n",
       "      <td>PAPA</td>\n",
       "      <td>34.50</td>\n",
       "      <td>SE BS.AS</td>\n",
       "      <td>2022-03-01</td>\n",
       "    </tr>\n",
       "    <tr>\n",
       "      <th>84</th>\n",
       "      <td>PAPA</td>\n",
       "      <td>25.34</td>\n",
       "      <td>NaN</td>\n",
       "      <td>2022-03-01</td>\n",
       "    </tr>\n",
       "    <tr>\n",
       "      <th>...</th>\n",
       "      <td>...</td>\n",
       "      <td>...</td>\n",
       "      <td>...</td>\n",
       "      <td>...</td>\n",
       "    </tr>\n",
       "    <tr>\n",
       "      <th>105</th>\n",
       "      <td>PAPA</td>\n",
       "      <td>56.63</td>\n",
       "      <td>NaN</td>\n",
       "      <td>2022-08-01</td>\n",
       "    </tr>\n",
       "    <tr>\n",
       "      <th>24</th>\n",
       "      <td>BATATA</td>\n",
       "      <td>107.50</td>\n",
       "      <td>BRASIL</td>\n",
       "      <td>2022-08-01</td>\n",
       "    </tr>\n",
       "    <tr>\n",
       "      <th>25</th>\n",
       "      <td>BATATA</td>\n",
       "      <td>98.00</td>\n",
       "      <td>CORDOBA</td>\n",
       "      <td>2022-08-01</td>\n",
       "    </tr>\n",
       "    <tr>\n",
       "      <th>26</th>\n",
       "      <td>BATATA</td>\n",
       "      <td>100.00</td>\n",
       "      <td>SANTA FE</td>\n",
       "      <td>2022-08-01</td>\n",
       "    </tr>\n",
       "    <tr>\n",
       "      <th>27</th>\n",
       "      <td>BATATA</td>\n",
       "      <td>101.83</td>\n",
       "      <td>NaN</td>\n",
       "      <td>2022-08-01</td>\n",
       "    </tr>\n",
       "  </tbody>\n",
       "</table>\n",
       "<p>100 rows × 4 columns</p>\n",
       "</div>"
      ],
      "text/plain": [
       "     nombre  precio provincia    periodo\n",
       "80     PAPA   19.15  GRL.BELG 2022-03-01\n",
       "81     PAPA   22.20  SE BS.AS 2022-03-01\n",
       "82     PAPA   25.50  SE BS.AS 2022-03-01\n",
       "83     PAPA   34.50  SE BS.AS 2022-03-01\n",
       "84     PAPA   25.34       NaN 2022-03-01\n",
       "..      ...     ...       ...        ...\n",
       "105    PAPA   56.63       NaN 2022-08-01\n",
       "24   BATATA  107.50    BRASIL 2022-08-01\n",
       "25   BATATA   98.00   CORDOBA 2022-08-01\n",
       "26   BATATA  100.00  SANTA FE 2022-08-01\n",
       "27   BATATA  101.83       NaN 2022-08-01\n",
       "\n",
       "[100 rows x 4 columns]"
      ]
     },
     "execution_count": 195,
     "metadata": {},
     "output_type": "execute_result"
    }
   ],
   "source": [
    "df_productos = df_productos.rename(columns=columns_rename)\n",
    "df_productos"
   ]
  },
  {
   "cell_type": "code",
   "execution_count": 196,
   "metadata": {},
   "outputs": [
    {
     "data": {
      "text/plain": [
       "array(['2022-03-01T00:00:00.000000000', '2022-06-01T00:00:00.000000000',\n",
       "       '2022-11-01T00:00:00.000000000', '2022-09-01T00:00:00.000000000',\n",
       "       '2022-02-01T00:00:00.000000000', '2022-05-02T00:00:00.000000000',\n",
       "       '2022-10-03T00:00:00.000000000', '2022-07-01T00:00:00.000000000',\n",
       "       '2022-01-04T00:00:00.000000000', '2022-04-01T00:00:00.000000000',\n",
       "       '2022-08-01T00:00:00.000000000'], dtype='datetime64[ns]')"
      ]
     },
     "execution_count": 196,
     "metadata": {},
     "output_type": "execute_result"
    }
   ],
   "source": [
    "df_productos[\"periodo\"].unique()"
   ]
  },
  {
   "cell_type": "code",
   "execution_count": 197,
   "metadata": {},
   "outputs": [],
   "source": [
    "df_productos = df_productos.fillna(\"SE BS.AS\")\n"
   ]
  },
  {
   "cell_type": "code",
   "execution_count": 198,
   "metadata": {},
   "outputs": [
    {
     "data": {
      "text/plain": [
       "nombre       0.0\n",
       "precio       0.0\n",
       "provincia    0.0\n",
       "periodo      0.0\n",
       "dtype: float64"
      ]
     },
     "execution_count": 198,
     "metadata": {},
     "output_type": "execute_result"
    }
   ],
   "source": [
    "df_productos.isnull().mean()"
   ]
  },
  {
   "cell_type": "code",
   "execution_count": 199,
   "metadata": {},
   "outputs": [
    {
     "data": {
      "text/plain": [
       "array(['GRL.BELG', 'SE BS.AS', 'S. PEDRO', 'CORDOBA', 'SAN LUIS', 'JUJUY',\n",
       "       'TUCUMAN', 'V.DOLOR.', 'BRASIL', 'FORMOSA', 'SANTA FE', 'R. NEGRO',\n",
       "       'MENDOZA'], dtype=object)"
      ]
     },
     "execution_count": 199,
     "metadata": {},
     "output_type": "execute_result"
    }
   ],
   "source": [
    "df_productos[\"provincia\"].unique()"
   ]
  },
  {
   "cell_type": "code",
   "execution_count": 202,
   "metadata": {},
   "outputs": [
    {
     "data": {
      "text/plain": [
       "datetime.datetime(2022, 3, 1, 0, 0)"
      ]
     },
     "execution_count": 202,
     "metadata": {},
     "output_type": "execute_result"
    }
   ],
   "source": [
    "import datetime\n",
    "\n",
    "dir = os.listdir(\"potato_story\")[0]\n",
    "day = dir[2:4]\n",
    "month = dir[4:6]\n",
    "year = dir[6:8]\n",
    "\n",
    "date_time_str = f'20{year}-{month}-{day} 00:00:00'\n",
    "date_time_obj = datetime.datetime.strptime(date_time_str, '%Y-%m-%d %H:%M:%S')\n",
    "date_time_obj"
   ]
  },
  {
   "cell_type": "code",
   "execution_count": 203,
   "metadata": {},
   "outputs": [
    {
     "data": {
      "text/plain": [
       "nombre       0.0\n",
       "precio       0.0\n",
       "provincia    0.0\n",
       "periodo      0.0\n",
       "dtype: float64"
      ]
     },
     "execution_count": 203,
     "metadata": {},
     "output_type": "execute_result"
    }
   ],
   "source": [
    "df_productos.isnull().mean()"
   ]
  },
  {
   "cell_type": "code",
   "execution_count": 204,
   "metadata": {},
   "outputs": [
    {
     "data": {
      "text/plain": [
       "(100, 4)"
      ]
     },
     "execution_count": 204,
     "metadata": {},
     "output_type": "execute_result"
    }
   ],
   "source": [
    "df_productos.shape"
   ]
  },
  {
   "cell_type": "code",
   "execution_count": 205,
   "metadata": {},
   "outputs": [
    {
     "data": {
      "text/html": [
       "<div>\n",
       "<style scoped>\n",
       "    .dataframe tbody tr th:only-of-type {\n",
       "        vertical-align: middle;\n",
       "    }\n",
       "\n",
       "    .dataframe tbody tr th {\n",
       "        vertical-align: top;\n",
       "    }\n",
       "\n",
       "    .dataframe thead th {\n",
       "        text-align: right;\n",
       "    }\n",
       "</style>\n",
       "<table border=\"1\" class=\"dataframe\">\n",
       "  <thead>\n",
       "    <tr style=\"text-align: right;\">\n",
       "      <th></th>\n",
       "      <th>nombre</th>\n",
       "      <th>precio</th>\n",
       "      <th>provincia</th>\n",
       "      <th>periodo</th>\n",
       "    </tr>\n",
       "  </thead>\n",
       "  <tbody>\n",
       "  </tbody>\n",
       "</table>\n",
       "</div>"
      ],
      "text/plain": [
       "Empty DataFrame\n",
       "Columns: [nombre, precio, provincia, periodo]\n",
       "Index: []"
      ]
     },
     "execution_count": 205,
     "metadata": {},
     "output_type": "execute_result"
    }
   ],
   "source": [
    "df_productos[df_productos['periodo'] == \"01\"]"
   ]
  },
  {
   "cell_type": "code",
   "execution_count": 206,
   "metadata": {},
   "outputs": [
    {
     "name": "stdout",
     "output_type": "stream",
     "text": [
      "01\n",
      "03\n",
      "22\n",
      "01\n",
      "06\n",
      "22\n",
      "01\n",
      "11\n",
      "22\n",
      "01\n",
      "09\n",
      "22\n",
      "01\n",
      "02\n",
      "22\n",
      "02\n",
      "05\n",
      "22\n",
      "03\n",
      "10\n",
      "22\n",
      "01\n",
      "07\n",
      "22\n",
      "04\n",
      "01\n",
      "22\n",
      "01\n",
      "04\n",
      "22\n",
      "01\n",
      "08\n",
      "22\n"
     ]
    }
   ],
   "source": [
    "for dir in os.listdir(\"potato_story\"):\n",
    "    print(dir[2:4]) # Dia\n",
    "    print(dir[4:6]) # Mes\n",
    "    print(dir[6:8]) # Año"
   ]
  },
  {
   "cell_type": "code",
   "execution_count": 207,
   "metadata": {},
   "outputs": [
    {
     "data": {
      "text/plain": [
       "['RH010322.csv',\n",
       " 'RH010622.csv',\n",
       " 'RH011122.csv',\n",
       " 'RH010922.csv',\n",
       " 'RH010222.csv',\n",
       " 'RH020522.csv',\n",
       " 'RH031022.csv',\n",
       " 'RH010722.csv',\n",
       " 'RH040122.csv',\n",
       " 'RH010422.csv',\n",
       " 'RH010822.csv']"
      ]
     },
     "execution_count": 207,
     "metadata": {},
     "output_type": "execute_result"
    }
   ],
   "source": [
    "os.listdir(\"potato_story\")"
   ]
  },
  {
   "cell_type": "code",
   "execution_count": 208,
   "metadata": {},
   "outputs": [],
   "source": [
    "df_productos.to_csv(\"productos_central.csv\", index=False)"
   ]
  }
 ],
 "metadata": {
  "interpreter": {
   "hash": "916dbcbb3f70747c44a77c7bcd40155683ae19c65e1c03b4aa3499c5328201f1"
  },
  "kernelspec": {
   "display_name": "Python 3.8.10 64-bit",
   "language": "python",
   "name": "python3"
  },
  "language_info": {
   "codemirror_mode": {
    "name": "ipython",
    "version": 3
   },
   "file_extension": ".py",
   "mimetype": "text/x-python",
   "name": "python",
   "nbconvert_exporter": "python",
   "pygments_lexer": "ipython3",
   "version": "3.8.10"
  },
  "orig_nbformat": 4
 },
 "nbformat": 4,
 "nbformat_minor": 2
}
